{
 "cells": [
  {
   "cell_type": "code",
   "execution_count": null,
   "id": "42ce9451-1c37-4e52-9ab6-8b77255efc8c",
   "metadata": {},
   "outputs": [],
   "source": [
    "import pandas as pd\n",
    "import numpy as np\n",
    "import matplotlib.pyplot as plt\n",
    "import seaborn as sns\n",
    "from scipy.stats import zscore\n",
    "%matplotlib inline  # Ensures plots display in the notebook"
   ]
  },
  {
   "cell_type": "code",
   "execution_count": null,
   "id": "dda6a797-46ed-4c16-bc7c-2de52665bee7",
   "metadata": {},
   "outputs": [],
   "source": [
    "df = pd.read_csv('data/benin.csv')"
   ]
  },
  {
   "cell_type": "code",
   "execution_count": null,
   "id": "2e9406cd-95ad-4928-abd1-bca11653a2fe",
   "metadata": {},
   "outputs": [],
   "source": [
    "# Summary statistics\n",
    "summary_stats = df.describe()\n",
    "print(summary_stats)\n",
    "\n",
    "# Missing values\n",
    "missing_values = df.isna().sum()\n",
    "print(\"\\nMissing Values:\\n\", missing_values)\n",
    "\n",
    "# Columns with >5% missing\n",
    "missing_percentage = (missing_values / len(df)) * 100\n",
    "high_missing = missing_percentage[missing_percentage > 5]\n",
    "print(\"\\nColumns with >5% missing values:\\n\", high_missing)"
   ]
  }
 ],
 "metadata": {
  "kernelspec": {
   "display_name": "Python 3 (ipykernel)",
   "language": "python",
   "name": "python3"
  },
  "language_info": {
   "codemirror_mode": {
    "name": "ipython",
    "version": 3
   },
   "file_extension": ".py",
   "mimetype": "text/x-python",
   "name": "python",
   "nbconvert_exporter": "python",
   "pygments_lexer": "ipython3",
   "version": "3.13.0"
  }
 },
 "nbformat": 4,
 "nbformat_minor": 5
}
