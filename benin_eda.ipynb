{
 "cells": [
  {
   "cell_type": "code",
   "execution_count": null,
   "id": "42ce9451-1c37-4e52-9ab6-8b77255efc8c",
   "metadata": {},
   "outputs": [],
   "source": [
    "import pandas as pd\n",
    "import numpy as np\n",
    "import matplotlib.pyplot as plt\n",
    "import seaborn as sns\n",
    "from scipy.stats import zscore\n",
    "%matplotlib inline  # Ensures plots display in the notebook"
   ]
  },
  {
   "cell_type": "code",
   "execution_count": null,
   "id": "dda6a797-46ed-4c16-bc7c-2de52665bee7",
   "metadata": {},
   "outputs": [],
   "source": [
    "df = pd.read_csv('data/benin.csv')"
   ]
  },
  {
   "cell_type": "code",
   "execution_count": null,
   "id": "2e9406cd-95ad-4928-abd1-bca11653a2fe",
   "metadata": {},
   "outputs": [],
   "source": [
    "# Summary statistics\n",
    "summary_stats = df.describe()\n",
    "print(summary_stats)\n",
    "\n",
    "# Missing values\n",
    "missing_values = df.isna().sum()\n",
    "print(\"\\nMissing Values:\\n\", missing_values)\n",
    "\n",
    "# Columns with >5% missing\n",
    "missing_percentage = (missing_values / len(df)) * 100\n",
    "high_missing = missing_percentage[missing_percentage > 5]\n",
    "print(\"\\nColumns with >5% missing values:\\n\", high_missing)"
   ]
  },
  {
   "cell_type": "code",
   "execution_count": null,
   "id": "0a17b23f-319b-4593-a60b-039f226d73a9",
   "metadata": {},
   "outputs": [],
   "source": [
    "# Outlier detection using Z-scores\n",
    "key_columns = ['GHI', 'DNI', 'DHI', 'ModA', 'ModB', 'WS', 'WSgust']\n",
    "z_scores = df[key_columns].apply(zscore, nan_policy='omit')\n",
    "outliers = (z_scores.abs() > 3).any(axis=1)\n",
    "print(f\"Number of outlier rows (|Z|>3): {outliers.sum()}\")\n",
    "print(\"\\nOutlier rows:\\n\", df[outliers][key_columns])"
   ]
  },
  {
   "cell_type": "code",
   "execution_count": null,
   "id": "f4927b63-6383-485b-9072-9a524f2fa45e",
   "metadata": {},
   "outputs": [],
   "source": [
    "# Impute missing values with median\n",
    "for col in key_columns:\n",
    "    df[col] = df[col].fillna(df[col].median())\n",
    "\n",
    "# Remove outliers (optional; keep if outliers are physically plausible)\n",
    "df_clean = df[~outliers].copy()\n",
    "\n",
    "# Verify cleaning\n",
    "print(\"\\nMissing values after cleaning:\\n\", df_clean.isna().sum())"
   ]
  },
  {
   "cell_type": "code",
   "execution_count": null,
   "id": "7a86a33a-f717-4731-b110-62731d82fd73",
   "metadata": {},
   "outputs": [],
   "source": [
    "df_clean.to_csv('data/benin_clean.csv', index=False)"
   ]
  },
  {
   "cell_type": "code",
   "execution_count": null,
   "id": "a01220e8-19e2-4ea8-9bbc-9d22766a811a",
   "metadata": {},
   "outputs": [],
   "source": [
    "# Convert Timestamp to datetime\n",
    "df_clean['Timestamp'] = pd.to_datetime(df_clean['Timestamp'])\n",
    "\n",
    "# Plot GHI, DNI, DHI\n",
    "plt.figure(figsize=(12, 6))\n",
    "plt.plot(df_clean['Timestamp'], df_clean['GHI'], label='GHI', alpha=0.7)\n",
    "plt.plot(df_clean['Timestamp'], df_clean['DNI'], label='DNI', alpha=0.7)\n",
    "plt.plot(df_clean['Timestamp'], df_clean['DHI'], label='DHI', alpha=0.7)\n",
    "plt.xlabel('Timestamp')\n",
    "plt.ylabel('Irradiance (W/m²)')\n",
    "plt.title('Solar Irradiance Over Time (Benin)')\n",
    "plt.legend()\n",
    "plt.xticks(rotation=45)\n",
    "plt.tight_layout()\n",
    "plt.savefig('plots/benin_irradiance_time_series.png')\n",
    "plt.show()\n",
    "\n",
    "# Plot Tamb\n",
    "plt.figure(figsize=(12, 6))\n",
    "plt.plot(df_clean['Timestamp'], df_clean['Tamb'], label='Ambient Temperature', color='orange')\n",
    "plt.xlabel('Timestamp')\n",
    "plt.ylabel('Temperature (°C)')\n",
    "plt.title('Ambient Temperature Over Time (Benin)')\n",
    "plt.legend()\n",
    "plt.xticks(rotation=45)\n",
    "plt.tight_layout()\n",
    "plt.savefig('plots/benin_temp_time_series.png')\n",
    "plt.show()"
   ]
  },
  {
   "cell_type": "code",
   "execution_count": null,
   "id": "52fb1c39-7784-4461-b1f0-4e72be9dd205",
   "metadata": {},
   "outputs": [],
   "source": [
    "# Extract month and plot average GHI\n",
    "df_clean['Month'] = df_clean['Timestamp'].dt.month\n",
    "monthly_ghi = df_clean.groupby('Month')['GHI'].mean()\n",
    "\n",
    "plt.figure(figsize=(8, 5))\n",
    "monthly_ghi.plot(kind='bar', color='skyblue')\n",
    "plt.xlabel('Month')\n",
    "plt.ylabel('Average GHI (W/m²)')\n",
    "plt.title('Average GHI by Month (Benin)')\n",
    "plt.tight_layout()\n",
    "plt.savefig('plots/benin_monthly_ghi.png')\n",
    "plt.show()"
   ]
  },
  {
   "cell_type": "code",
   "execution_count": null,
   "id": "eb34a0fe-e89b-4af5-ac43-e928b6099d20",
   "metadata": {},
   "outputs": [],
   "source": [
    "# Group by Cleaning flag\n",
    "cleaning_impact = df_clean.groupby('Cleaning')[['ModA', 'ModB']].mean()\n",
    "print(\"Average ModA and ModB by Cleaning Status:\\n\", cleaning_impact)\n",
    "\n",
    "# Plot\n",
    "cleaning_impact.plot(kind='bar', figsize=(8, 5), color=['blue', 'green'])\n",
    "plt.xlabel('Cleaning (0 = No, 1 = Yes)')\n",
    "plt.ylabel('Average Sensor Reading (W/m²)')\n",
    "plt.title('Impact of Cleaning on ModA and ModB (Benin)')\n",
    "plt.tight_layout()\n",
    "plt.savefig('plots/benin_cleaning_impact.png')\n",
    "plt.show()"
   ]
  },
  {
   "cell_type": "code",
   "execution_count": null,
   "id": "7aa1c968-bcbd-4ef6-938b-004058c05b04",
   "metadata": {},
   "outputs": [],
   "source": [
    "# Correlation heatmap\n",
    "corr_columns = ['GHI', 'DNI', 'DHI', 'TModA', 'TModB']\n",
    "corr_matrix = df_clean[corr_columns].corr()\n",
    "\n",
    "plt.figure(figsize=(8, 6))\n",
    "sns.heatmap(corr_matrix, annot=True, cmap='coolwarm', vmin=-1, vmax=1)\n",
    "plt.title('Correlation Heatmap (Benin)')\n",
    "plt.tight_layout()\n",
    "plt.savefig('plots/benin_correlation_heatmap.png')\n",
    "plt.show()"
   ]
  },
  {
   "cell_type": "code",
   "execution_count": null,
   "id": "ae621498-e083-484f-94dd-c604377a3d56",
   "metadata": {},
   "outputs": [],
   "source": [
    "# WS vs GHI\n",
    "plt.figure(figsize=(8, 5))\n",
    "plt.scatter(df_clean['WS'], df_clean['GHI'], alpha=0.5, color='purple')\n",
    "plt.xlabel('Wind Speed (m/s)')\n",
    "plt.ylabel('GHI (W/m²)')\n",
    "plt.title('Wind Speed vs. GHI (Benin)')\n",
    "plt.tight_layout()\n",
    "plt.savefig('plots/benin_ws_ghi_scatter.png')\n",
    "plt.show()\n",
    "\n",
    "# RH vs Tamb\n",
    "plt.figure(figsize=(8, 5))\n",
    "plt.scatter(df_clean['RH'], df_clean['Tamb'], alpha=0.5, color='teal')\n",
    "plt.xlabel('Relative Humidity (%)')\n",
    "plt.ylabel('Ambient Temperature (°C)')\n",
    "plt.title('RH vs. Tamb (Benin)')\n",
    "plt.tight_layout()\n",
    "plt.savefig('plots/benin_rh_tamb_scatter.png')\n",
    "plt.show()"
   ]
  },
  {
   "cell_type": "code",
   "execution_count": null,
   "id": "fb4d89ec-dc70-4b0f-ac03-d37fd5ab8542",
   "metadata": {},
   "outputs": [],
   "source": [
    "from windrose import WindroseAxes\n",
    "\n",
    "# Wind rose plot\n",
    "ax = WindroseAxes.from_ax()\n",
    "ax.bar(df_clean['WD'], df_clean['WS'], normed=True, opening=0.8, edgecolor='white')\n",
    "ax.set_legend()\n",
    "plt.title('Wind Rose Plot (Benin)')\n",
    "plt.savefig('plots/benin_wind_rose.png')\n",
    "plt.show()"
   ]
  },
  {
   "cell_type": "code",
   "execution_count": null,
   "id": "91ae6a25-94ba-4ea5-bd3e-fcaa12211ae1",
   "metadata": {},
   "outputs": [],
   "source": [
    "# Histograms for GHI and WS\n",
    "plt.figure(figsize=(10, 5))\n",
    "plt.subplot(1, 2, 1)\n",
    "plt.hist(df_clean['GHI'], bins=30, edgecolor='black', color='lightblue')\n",
    "plt.xlabel('GHI (W/m²)')\n",
    "plt.ylabel('Frequency')\n",
    "plt.title('GHI Distribution (Benin)')\n",
    "\n",
    "plt.subplot(1, 2, 2)\n",
    "plt.hist(df_clean['WS'], bins=30, edgecolor='black', color='lightgreen')\n",
    "plt.xlabel('Wind Speed (m/s)')\n",
    "plt.ylabel('Frequency')\n",
    "plt.title('Wind Speed Distribution (Benin)')\n",
    "plt.tight_layout()\n",
    "plt.savefig('plots/benin_histograms.png')\n",
    "plt.show()"
   ]
  },
  {
   "cell_type": "code",
   "execution_count": null,
   "id": "4899c6d6-4520-4ddb-8f2b-ac1d1b2a0a89",
   "metadata": {},
   "outputs": [],
   "source": [
    "# RH vs GHI scatter plot\n",
    "plt.figure(figsize=(8, 5))\n",
    "plt.scatter(df_clean['RH'], df_clean['GHI'], alpha=0.5, color='coral')\n",
    "plt.xlabel('Relative Humidity (%)')\n",
    "plt.ylabel('GHI (W/m²)')\n",
    "plt.title('RH vs. GHI (Benin)')\n",
    "plt.tight_layout()\n",
    "plt.savefig('plots/benin_rh_ghi_scatter.png')\n",
    "plt.show()"
   ]
  },
  {
   "cell_type": "markdown",
   "id": "a5d78231-61bb-4634-98cb-3709591fb01d",
   "metadata": {},
   "source": [
    "### Temperature Analysis\n",
    "- RH vs. GHI: Higher relative humidity often correlates with lower GHI, likely due to cloud cover reducing solar irradiance.\n",
    "- RH vs. Tamb: Lower temperatures are associated with higher humidity, indicating possible rainy or overcast conditions."
   ]
  }
 ],
 "metadata": {
  "kernelspec": {
   "display_name": "Python 3 (ipykernel)",
   "language": "python",
   "name": "python3"
  },
  "language_info": {
   "codemirror_mode": {
    "name": "ipython",
    "version": 3
   },
   "file_extension": ".py",
   "mimetype": "text/x-python",
   "name": "python",
   "nbconvert_exporter": "python",
   "pygments_lexer": "ipython3",
   "version": "3.13.0"
  }
 },
 "nbformat": 4,
 "nbformat_minor": 5
}
