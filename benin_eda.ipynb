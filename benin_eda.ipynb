{
 "cells": [
  {
   "cell_type": "code",
   "execution_count": null,
   "id": "42ce9451-1c37-4e52-9ab6-8b77255efc8c",
   "metadata": {},
   "outputs": [],
   "source": [
    "import pandas as pd\n",
    "import numpy as np\n",
    "import matplotlib.pyplot as plt\n",
    "import seaborn as sns\n",
    "from scipy.stats import zscore\n",
    "%matplotlib inline  # Ensures plots display in the notebook"
   ]
  },
  {
   "cell_type": "code",
   "execution_count": null,
   "id": "dda6a797-46ed-4c16-bc7c-2de52665bee7",
   "metadata": {},
   "outputs": [],
   "source": [
    "df = pd.read_csv('data/benin.csv')"
   ]
  },
  {
   "cell_type": "code",
   "execution_count": null,
   "id": "2e9406cd-95ad-4928-abd1-bca11653a2fe",
   "metadata": {},
   "outputs": [],
   "source": [
    "# Summary statistics\n",
    "summary_stats = df.describe()\n",
    "print(summary_stats)\n",
    "\n",
    "# Missing values\n",
    "missing_values = df.isna().sum()\n",
    "print(\"\\nMissing Values:\\n\", missing_values)\n",
    "\n",
    "# Columns with >5% missing\n",
    "missing_percentage = (missing_values / len(df)) * 100\n",
    "high_missing = missing_percentage[missing_percentage > 5]\n",
    "print(\"\\nColumns with >5% missing values:\\n\", high_missing)"
   ]
  },
  {
   "cell_type": "code",
   "execution_count": null,
   "id": "0a17b23f-319b-4593-a60b-039f226d73a9",
   "metadata": {},
   "outputs": [],
   "source": [
    "# Outlier detection using Z-scores\n",
    "key_columns = ['GHI', 'DNI', 'DHI', 'ModA', 'ModB', 'WS', 'WSgust']\n",
    "z_scores = df[key_columns].apply(zscore, nan_policy='omit')\n",
    "outliers = (z_scores.abs() > 3).any(axis=1)\n",
    "print(f\"Number of outlier rows (|Z|>3): {outliers.sum()}\")\n",
    "print(\"\\nOutlier rows:\\n\", df[outliers][key_columns])"
   ]
  },
  {
   "cell_type": "code",
   "execution_count": null,
   "id": "f4927b63-6383-485b-9072-9a524f2fa45e",
   "metadata": {},
   "outputs": [],
   "source": [
    "# Impute missing values with median\n",
    "for col in key_columns:\n",
    "    df[col] = df[col].fillna(df[col].median())\n",
    "\n",
    "# Remove outliers (optional; keep if outliers are physically plausible)\n",
    "df_clean = df[~outliers].copy()\n",
    "\n",
    "# Verify cleaning\n",
    "print(\"\\nMissing values after cleaning:\\n\", df_clean.isna().sum())"
   ]
  },
  {
   "cell_type": "code",
   "execution_count": null,
   "id": "7a86a33a-f717-4731-b110-62731d82fd73",
   "metadata": {},
   "outputs": [],
   "source": [
    "df_clean.to_csv('data/benin_clean.csv', index=False)"
   ]
  }
 ],
 "metadata": {
  "kernelspec": {
   "display_name": "Python 3 (ipykernel)",
   "language": "python",
   "name": "python3"
  },
  "language_info": {
   "codemirror_mode": {
    "name": "ipython",
    "version": 3
   },
   "file_extension": ".py",
   "mimetype": "text/x-python",
   "name": "python",
   "nbconvert_exporter": "python",
   "pygments_lexer": "ipython3",
   "version": "3.13.0"
  }
 },
 "nbformat": 4,
 "nbformat_minor": 5
}
